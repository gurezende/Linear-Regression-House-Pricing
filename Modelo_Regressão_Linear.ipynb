{
  "nbformat": 4,
  "nbformat_minor": 0,
  "metadata": {
    "colab": {
      "name": "Modelo Regressão Linear.ipynb",
      "provenance": [],
      "authorship_tag": "ABX9TyN7IRrRUNLJ1UJ4ZN25NE5j",
      "include_colab_link": true
    },
    "kernelspec": {
      "name": "python3",
      "display_name": "Python 3"
    }
  },
  "cells": [
    {
      "cell_type": "markdown",
      "metadata": {
        "id": "view-in-github",
        "colab_type": "text"
      },
      "source": [
        "<a href=\"https://colab.research.google.com/github/gurezende/Linear-Regression-House-Pricing/blob/master/Modelo_Regress%C3%A3o_Linear.ipynb\" target=\"_parent\"><img src=\"https://colab.research.google.com/assets/colab-badge.svg\" alt=\"Open In Colab\"/></a>"
      ]
    },
    {
      "cell_type": "code",
      "metadata": {
        "id": "cdpUMKUm78rK",
        "colab_type": "code",
        "colab": {}
      },
      "source": [
        "# Import packages\n",
        "import numpy as np\n",
        "import pandas as pd\n",
        "import random"
      ],
      "execution_count": 0,
      "outputs": []
    },
    {
      "cell_type": "markdown",
      "metadata": {
        "id": "5Uego3U0Kdoz",
        "colab_type": "text"
      },
      "source": [
        "Creating Dataset\n"
      ]
    },
    {
      "cell_type": "code",
      "metadata": {
        "id": "wuGmyIqpG589",
        "colab_type": "code",
        "colab": {}
      },
      "source": [
        "# Creating the Projects list\n",
        "lista = ['Project1', 'Project2', 'Project3', 'Project4']\n",
        "projetos = random.sample(lista, k=4)"
      ],
      "execution_count": 0,
      "outputs": []
    },
    {
      "cell_type": "code",
      "metadata": {
        "id": "JEdSHy8eHpuE",
        "colab_type": "code",
        "colab": {}
      },
      "source": [
        "projetos = 10*projetos"
      ],
      "execution_count": 0,
      "outputs": []
    },
    {
      "cell_type": "code",
      "metadata": {
        "id": "NrNsx1BrIG0b",
        "colab_type": "code",
        "colab": {}
      },
      "source": [
        "# Creating the Categories list\n",
        "cat = 10*['IT', 'Consumer', 'Retail', 'IT']"
      ],
      "execution_count": 0,
      "outputs": []
    },
    {
      "cell_type": "code",
      "metadata": {
        "id": "YZSA7e5zIN4Z",
        "colab_type": "code",
        "colab": {}
      },
      "source": [
        "# Generating a random sample of 40 numbers to be the expenses\n",
        "exp = [random.randint(1000,25000) for i in range(40)]"
      ],
      "execution_count": 0,
      "outputs": []
    },
    {
      "cell_type": "code",
      "metadata": {
        "id": "2RNi6_myFbuq",
        "colab_type": "code",
        "colab": {}
      },
      "source": [
        "# Creating a dictionary to be the base for a DataFrame\n",
        "dic = {'projectID':projetos, 'category': cat, \"expense\": exp}"
      ],
      "execution_count": 0,
      "outputs": []
    },
    {
      "cell_type": "code",
      "metadata": {
        "id": "g8dqFnZpIzgk",
        "colab_type": "code",
        "colab": {}
      },
      "source": [
        "# Creating the DataFrame from the dictionary\n",
        "df = pd.DataFrame(dic)"
      ],
      "execution_count": 0,
      "outputs": []
    },
    {
      "cell_type": "markdown",
      "metadata": {
        "id": "6aJwfj-jK4ie",
        "colab_type": "text"
      },
      "source": [
        "Exploring the Dataset"
      ]
    },
    {
      "cell_type": "code",
      "metadata": {
        "id": "Nm657t7eKCat",
        "colab_type": "code",
        "colab": {}
      },
      "source": [
        ""
      ],
      "execution_count": 0,
      "outputs": []
    }
  ]
}